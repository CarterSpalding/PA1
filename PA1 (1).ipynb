{
 "cells": [
  {
   "cell_type": "code",
   "execution_count": 75,
   "id": "f9330f98",
   "metadata": {},
   "outputs": [
    {
     "name": "stdout",
     "output_type": "stream",
     "text": [
      "Enter a floating point number. 13.5\n"
     ]
    }
   ],
   "source": [
    "number1=float(input(\"Enter a floating point number. \"))"
   ]
  },
  {
   "cell_type": "code",
   "execution_count": 76,
   "id": "88fbfd43",
   "metadata": {},
   "outputs": [
    {
     "name": "stdout",
     "output_type": "stream",
     "text": [
      "Enter an integer. 13\n"
     ]
    }
   ],
   "source": [
    "number2=int(input(\"Enter an integer. \"))"
   ]
  },
  {
   "cell_type": "code",
   "execution_count": 83,
   "id": "84d84a13",
   "metadata": {},
   "outputs": [
    {
     "name": "stdout",
     "output_type": "stream",
     "text": [
      "The sum is  26.5\n",
      "The difference is  0.5\n",
      "The product is  175.5\n",
      "The quotient is  1.0384615384615385\n",
      "The type for the result is  <class 'float'>\n"
     ]
    }
   ],
   "source": [
    "print(\"The sum is \", number1+number2)\n",
    "print(\"The difference is \", number1-number2)\n",
    "print(\"The product is \", number1*number2)\n",
    "print(\"The quotient is \", number1/number2)\n",
    "print(\"The type for the result is \", type(number1/number2))"
   ]
  },
  {
   "cell_type": "markdown",
   "id": "bf7fa6a4",
   "metadata": {},
   "source": [
    "# Programming Assignment 1 \n",
    "## Carter Spalding\n",
    "### Version 1\n",
    "#### Semester 1"
   ]
  }
 ],
 "metadata": {
  "kernelspec": {
   "display_name": "Python 3",
   "language": "python",
   "name": "python3"
  },
  "language_info": {
   "codemirror_mode": {
    "name": "ipython",
    "version": 3
   },
   "file_extension": ".py",
   "mimetype": "text/x-python",
   "name": "python",
   "nbconvert_exporter": "python",
   "pygments_lexer": "ipython3",
   "version": "3.8.8"
  }
 },
 "nbformat": 4,
 "nbformat_minor": 5
}
